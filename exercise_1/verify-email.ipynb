{
 "cells": [
  {
   "metadata": {},
   "cell_type": "code",
   "outputs": [],
   "execution_count": null,
   "source": "import os",
   "id": "c60a1fd17dbe2046"
  },
  {
   "metadata": {},
   "cell_type": "code",
   "outputs": [],
   "execution_count": null,
   "source": [
    "DATA_DIR = 'trec07p/data/'\n",
    "LABELS_FILE = 'trec07p/full/index'\n",
    "TRAINING_SET_RATIO = 0.7"
   ],
   "id": "41a77bafcdbd3322"
  },
  {
   "metadata": {},
   "cell_type": "code",
   "outputs": [],
   "execution_count": null,
   "source": [
    "labels = {}\n",
    "spam_words = set()\n",
    "ham_words = set()"
   ],
   "id": "22b5f9081dc7d0b3"
  },
  {
   "metadata": {},
   "cell_type": "code",
   "outputs": [],
   "execution_count": null,
   "source": [
    "# Read the labels\n",
    "with open(LABELS_FILE) as f:\n",
    "    for line in f:\n",
    "        line = line.strip()\n",
    "        label, key = line.split()\n",
    "        labels[key.split('/')[-1]] = 1 if label.lower() == 'ham' else 0"
   ],
   "id": "b60df6a9d254956"
  },
  {
   "metadata": {},
   "cell_type": "code",
   "outputs": [],
   "execution_count": null,
   "source": [
    "# Split corpus into train and test sets\n",
    "filelist = os.listdir(DATA_DIR)\n",
    "X_train = filelist[:int(len(filelist)*TRAINING_SET_RATIO)]\n",
    "X_test = filelist[int(len(filelist)*TRAINING_SET_RATIO):]"
   ],
   "id": "2081be71ac6f4bd2"
  },
  {
   "metadata": {},
   "cell_type": "code",
   "outputs": [],
   "execution_count": null,
   "source": [
    "import nltk\n",
    "nltk.download('punkt_tab')"
   ],
   "id": "95c17dcc943f5ee7"
  },
  {
   "metadata": {},
   "cell_type": "code",
   "outputs": [],
   "execution_count": null,
   "source": [
    "import email\n",
    "import re\n",
    "\n",
    "TRUSTED_DOMAINS = {'gmail.com', 'yahoo.com', 'outlook.com', 'company.com'}  # دامنه‌های معتبر\n",
    "SPAM_DOMAINS = {'free-mail.com', 'spam4u.net', 'cheap-mail.pro'}  # دامنه‌های اسپم\n",
    "SUSPICIOUS_SERVICES = {'mail.ru', 'yandex.com'}  # سرویس‌های با ریسک متوسط"
   ],
   "id": "6df076652cd43a80"
  },
  {
   "metadata": {},
   "cell_type": "code",
   "outputs": [],
   "execution_count": null,
   "source": [
    "# 2. تابع استخراج اطلاعات فرستنده (نسخه اصلاح شده)\n",
    "def extract_sender_info(email_path):\n",
    "    try:\n",
    "        with open(email_path, 'rb') as f:  # باز کردن فایل به صورت باینری\n",
    "            msg = email.message_from_binary_file(f)  # استفاده از message_from_binary_file\n",
    "            if msg is None:\n",
    "                return '', ''  # در صورت شکست در خواندن ایمیل\n",
    "\n",
    "        sender = msg.get('From', '')\n",
    "        domain = ''\n",
    "        service = ''\n",
    "\n",
    "        # استخراج دامنه از آدرس ایمیل\n",
    "        if isinstance(sender, str):  # اطمینان از رشته بودن sender\n",
    "            email_match = re.search(r'@([a-zA-Z0-9.-]+)', sender)\n",
    "            if email_match:\n",
    "                domain = email_match.group(1).lower()\n",
    "\n",
    "        # استخراج سرویس از Received headers\n",
    "        received_headers = msg.get_all('Received', [])\n",
    "        for header in received_headers:\n",
    "            if isinstance(header, str):  # فقط هدرهای رشته‌ای پردازش شوند\n",
    "                service_match = re.search(r'with (SMTP|ESMTP|HTTP|IMAP)', header)\n",
    "                if service_match:\n",
    "                    service = service_match.group(1)\n",
    "                    break\n",
    "\n",
    "        return domain, service\n",
    "    except Exception as e:\n",
    "        print(f\"Error in extract_sender_info for {email_path}: {str(e)}\")\n",
    "        return '', ''  # در صورت خطا، مقادیر خالی برگردانده شود\n"
   ],
   "id": "e7ed11361b626fad"
  },
  {
   "metadata": {},
   "cell_type": "code",
   "outputs": [],
   "execution_count": null,
   "source": [
    "\n",
    "# 3. بارگذاری لیبل‌ها\n",
    "labels = {}\n",
    "with open(LABELS_FILE) as f:\n",
    "    for line in f:\n",
    "        line = line.strip()\n",
    "        if not line:\n",
    "            continue\n",
    "        parts = line.split()\n",
    "        if len(parts) >= 2:\n",
    "            label, path = parts[0], parts[1]\n",
    "            labels[os.path.basename(path)] = 1 if label.lower() == 'ham' else 0\n",
    "\n",
    "# 4. تحلیل ایمیل‌ها\n",
    "results = []\n",
    "for filename in list(labels.keys()):  # ایجاد لیست از کلیدها برای جلوگیری از تغییر اندازه\n",
    "    try:\n",
    "        path = os.path.join(DATA_DIR, filename)\n",
    "        if not os.path.exists(path):\n",
    "            continue\n",
    "\n",
    "        domain, service = extract_sender_info(path)\n",
    "        true_label = labels[filename]\n",
    "\n",
    "        # اعتبارسنجی (متریک اصلی)\n",
    "        if domain in SPAM_DOMAINS:\n",
    "            predicted_label = 0  # اسپم\n",
    "        elif domain in TRUSTED_DOMAINS:\n",
    "            predicted_label = 1  # هم\n",
    "        elif domain in SUSPICIOUS_SERVICES:\n",
    "            predicted_label = 0  # اسپم (با احتمال کمتر)\n",
    "        else:\n",
    "            predicted_label = 0  # ناشناخته = اسپم در نظر گرفته می‌شود\n",
    "\n",
    "        results.append((true_label, predicted_label))\n",
    "    except Exception as e:\n",
    "        print(f\"Error processing {filename}: {str(e)}\")\n",
    "        continue\n"
   ],
   "id": "cb27680532bd20cd"
  },
  {
   "metadata": {},
   "cell_type": "code",
   "outputs": [],
   "execution_count": null,
   "source": [
    "# 5. محاسبه معیارهای ارزیابی\n",
    "if results:  # فقط اگر داده‌ای برای تحلیل وجود داشته باشد\n",
    "    tp = sum(1 for true, pred in results if true == 0 and pred == 0)\n",
    "    tn = sum(1 for true, pred in results if true == 1 and pred == 1)\n",
    "    fp = sum(1 for true, pred in results if true == 1 and pred == 0)\n",
    "    fn = sum(1 for true, pred in results if true == 0 and pred == 1)\n",
    "\n",
    "    accuracy = (tp + tn) / len(results)\n",
    "    precision = tp / (tp + fp) if (tp + fp) > 0 else 0\n",
    "    recall = tp / (tp + fn) if (tp + fn) > 0 else 0\n",
    "    f1 = 2 * (precision * recall) / (precision + recall) if (precision + recall) > 0 else 0\n",
    "\n",
    "    # 6. نمایش نتایج\n",
    "    display(HTML('<table><tr>{}</tr></table>'.format(\n",
    "        '</tr><tr>'.join('<td>{}</td>'.format(\n",
    "            '</td><td>'.join(str(_) for _ in row))\n",
    "                         for row in conf_matrix))))\n",
    "\n",
    "    count = tn + tp + fn + fp\n",
    "    percent_matrix = [[\"{:.1%}\".format(tn/count), \"{:.1%}\".format(fp/count)],\n",
    "                      [\"{:.1%}\".format(fn/count), \"{:.1%}\".format(tp/count)]]\n",
    "    display(HTML('<table><tr>{}</tr></table>'.format(\n",
    "        '</tr><tr>'.join('<td>{}</td>'.format(\n",
    "            '</td><td>'.join(str(_) for _ in row))\n",
    "                         for row in percent_matrix))))\n",
    "\n",
    "    print(\"Classification accuracy: {}\".format(\"{:.1%}\".format((tp+tn)/count)))\n",
    "    print(\"Precision (spam): {}\".format(\"{:.1%}\".format(tp/(tp+fp))))\n",
    "    print(\"Recall (spam): {}\".format(\"{:.1%}\".format(tp/(tp+fn))))\n",
    "    print(\"F1-score (spam): {}\".format(\"{:.1%}\".format(2*tp/(2*tp + fp + fn))))\n",
    "\n",
    "else:\n",
    "    print(\"هیچ داده‌ای برای تحلیل یافت نشد.\")"
   ],
   "id": "9c2d9f6a8de80e4a"
  }
 ],
 "metadata": {
  "kernelspec": {
   "display_name": "Python 3",
   "language": "python",
   "name": "python3"
  },
  "language_info": {
   "codemirror_mode": {
    "name": "ipython",
    "version": 2
   },
   "file_extension": ".py",
   "mimetype": "text/x-python",
   "name": "python",
   "nbconvert_exporter": "python",
   "pygments_lexer": "ipython2",
   "version": "2.7.6"
  }
 },
 "nbformat": 4,
 "nbformat_minor": 5
}
