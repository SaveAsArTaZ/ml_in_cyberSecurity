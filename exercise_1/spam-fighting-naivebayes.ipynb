{
 "cells": [
  {
   "metadata": {
    "ExecuteTime": {
     "end_time": "2025-04-15T17:57:52.062955Z",
     "start_time": "2025-04-15T17:57:52.056359Z"
    }
   },
   "cell_type": "code",
   "source": [
    "# [Initial Imports and Setup]\n",
    "import sys\n",
    "import os\n",
    "import joblib\n",
    "import numpy as np\n",
    "from sklearn.ensemble import RandomForestClassifier\n",
    "from sklearn.naive_bayes import MultinomialNB\n",
    "from sklearn.feature_extraction.text import CountVectorizer\n",
    "from sklearn.model_selection import train_test_split, StratifiedKFold\n",
    "from sklearn.metrics import (accuracy_score, precision_score, recall_score,\n",
    "                             f1_score, confusion_matrix, classification_report,\n",
    "                             make_scorer)\n",
    "\n",
    "from exercise_1 import email_read_util"
   ],
   "outputs": [],
   "execution_count": 23
  },
  {
   "metadata": {
    "ExecuteTime": {
     "end_time": "2025-04-15T17:57:52.089363Z",
     "start_time": "2025-04-15T17:57:52.085112Z"
    }
   },
   "cell_type": "code",
   "source": [
    "# Configuration constants\n",
    "DATA_DIR = 'trec07p/data'\n",
    "LABELS_FILE = 'trec07p/full/index'\n",
    "TEST_SIZE = 0.2\n",
    "RANDOM_STATE = 42\n",
    "N_SPLITS = 5"
   ],
   "outputs": [],
   "execution_count": 24
  },
  {
   "metadata": {
    "ExecuteTime": {
     "end_time": "2025-04-15T17:57:52.134586Z",
     "start_time": "2025-04-15T17:57:52.128924Z"
    }
   },
   "cell_type": "code",
   "source": [
    "def load_labels():\n",
    "    \"\"\"Load email labels from file\"\"\"\n",
    "    labels = {}\n",
    "    with open(LABELS_FILE) as f:\n",
    "        for line in f:\n",
    "            line = line.strip()\n",
    "            label, key = line.split()\n",
    "            labels[key.split('/')[-1]] = 1 if label.lower() == 'ham' else 0\n",
    "    return labels"
   ],
   "outputs": [],
   "execution_count": 25
  },
  {
   "cell_type": "code",
   "metadata": {
    "ExecuteTime": {
     "end_time": "2025-04-15T17:57:52.186702Z",
     "start_time": "2025-04-15T17:57:52.181183Z"
    }
   },
   "source": [
    "def load_emails(labels):\n",
    "    \"\"\"Load and process email texts\"\"\"\n",
    "    X, y = [], []\n",
    "    for i in range(len(labels)):\n",
    "        filename = f'inmail.{i+1}'\n",
    "        email_str = email_read_util.extract_email_text(os.path.join(DATA_DIR, filename))\n",
    "        X.append(email_str)\n",
    "        y.append(labels[filename])\n",
    "    return X, y"
   ],
   "outputs": [],
   "execution_count": 26
  },
  {
   "cell_type": "code",
   "metadata": {
    "ExecuteTime": {
     "end_time": "2025-04-15T17:57:52.239182Z",
     "start_time": "2025-04-15T17:57:52.235314Z"
    }
   },
   "source": [
    "def evaluate_error_types(y_true, y_pred):\n",
    "    \"\"\"Calculate false positive rate (disguised as error rate)\"\"\"\n",
    "    tn, fp, _, _ = confusion_matrix(y_true, y_pred).ravel()\n",
    "    return fp / (fp + tn) if (fp + tn) > 0 else 0.0"
   ],
   "outputs": [],
   "execution_count": 27
  },
  {
   "cell_type": "code",
   "metadata": {
    "ExecuteTime": {
     "end_time": "2025-04-15T17:57:52.297949Z",
     "start_time": "2025-04-15T17:57:52.284441Z"
    }
   },
   "source": [
    "def train_and_evaluate():\n",
    "    # Load and prepare data\n",
    "    labels = load_labels()\n",
    "    X, y = load_emails(labels)\n",
    "\n",
    "    # Split data\n",
    "    X_trainval, X_test, y_trainval, y_test = train_test_split(\n",
    "        X, y, test_size=TEST_SIZE, stratify=y, random_state=RANDOM_STATE)\n",
    "\n",
    "    # Vectorize text\n",
    "    vectorizer = CountVectorizer()\n",
    "    X_trainval_vector = vectorizer.fit_transform(X_trainval)\n",
    "    X_test_vector = vectorizer.transform(X_test)\n",
    "    y_trainval_array = np.array(y_trainval)\n",
    "    y_test_array = np.array(y_test)\n",
    "\n",
    "    # Initialize models\n",
    "    classifiers = {\n",
    "        'Naive Bayes': MultinomialNB(),\n",
    "        'Random Forest': RandomForestClassifier(\n",
    "            n_estimators=100,\n",
    "            random_state=RANDOM_STATE,\n",
    "            class_weight='balanced'\n",
    "        )\n",
    "    }\n",
    "\n",
    "    # Configure evaluation metrics\n",
    "    scoring = {\n",
    "        'accuracy': make_scorer(accuracy_score),\n",
    "        'precision': make_scorer(precision_score),\n",
    "        'recall': make_scorer(recall_score),\n",
    "        'f1': make_scorer(f1_score),\n",
    "        'error_rate': make_scorer(evaluate_error_types)\n",
    "    }\n",
    "\n",
    "    # Cross-validation setup\n",
    "    cv = StratifiedKFold(n_splits=N_SPLITS, shuffle=True, random_state=RANDOM_STATE)\n",
    "    trained_models = {}\n",
    "\n",
    "    print(\"\\n🔁 Cross-Validation Results:\")\n",
    "    for name, model in classifiers.items():\n",
    "        print(f\"\\n📌 Evaluating: {name}\")\n",
    "\n",
    "        fold_metrics = {\n",
    "            'accuracy': [],\n",
    "            'precision': [],\n",
    "            'recall': [],\n",
    "            'f1': [],\n",
    "            'error_rate': []\n",
    "        }\n",
    "\n",
    "        for fold, (train_idx, val_idx) in enumerate(cv.split(X_trainval_vector, y_trainval_array), 1):\n",
    "            # Train/validation split\n",
    "            X_train, X_val = X_trainval_vector[train_idx], X_trainval_vector[val_idx]\n",
    "            y_train, y_val = y_trainval_array[train_idx], y_trainval_array[val_idx]\n",
    "\n",
    "            # Train and predict\n",
    "            model.fit(X_train, y_train)\n",
    "            y_pred = model.predict(X_val)\n",
    "\n",
    "            # Store metrics\n",
    "            for metric in fold_metrics:\n",
    "                scorer = scoring[metric]\n",
    "                fold_metrics[metric].append(scorer._score_func(y_val, y_pred))\n",
    "\n",
    "            # Print fold results\n",
    "            print(f\"  Fold {fold}:\")\n",
    "            for metric, values in fold_metrics.items():\n",
    "                print(f\"    {metric.capitalize():<15}: {values[-1]:.3f}\")\n",
    "\n",
    "        # Print averages\n",
    "        print(f\"\\n🔹 Average (over {N_SPLITS} folds):\")\n",
    "        for metric, values in fold_metrics.items():\n",
    "            print(f\"  {metric.capitalize():<15}: {np.mean(values):.3f}\")\n",
    "\n",
    "        # Final training and model saving\n",
    "        model.fit(X_trainval_vector, y_trainval_array)\n",
    "        trained_models[name] = model\n",
    "        joblib.dump(model, f'{name.lower().replace(\" \", \"_\")}_model.pkl')\n",
    "\n",
    "    # Test evaluation\n",
    "    print(\"\\n📊 Final Test Evaluation:\")\n",
    "    for name, model in trained_models.items():\n",
    "        y_pred = model.predict(X_test_vector)\n",
    "\n",
    "        print(f\"\\n🔍 Model: {name}\")\n",
    "        print(f\"  Accuracy:    {accuracy_score(y_test_array, y_pred):.3f}\")\n",
    "        print(f\"  Precision:   {precision_score(y_test_array, y_pred):.3f}\")\n",
    "        print(f\"  Recall:      {recall_score(y_test_array, y_pred):.3f}\")\n",
    "        print(f\"  F1 Score:    {f1_score(y_test_array, y_pred):.3f}\")\n",
    "        print(f\"  Error Rate:  {evaluate_error_types(y_test_array, y_pred):.3f}\")\n",
    "        print(\"\\n  Classification Report:\")\n",
    "        print(classification_report(y_test_array, y_pred, target_names=[\"Spam\", \"Ham\"]))"
   ],
   "outputs": [],
   "execution_count": 28
  },
  {
   "cell_type": "code",
   "metadata": {
    "ExecuteTime": {
     "end_time": "2025-04-15T18:57:12.421880Z",
     "start_time": "2025-04-15T17:57:52.344759Z"
    }
   },
   "source": [
    "# RUN\n",
    "train_and_evaluate()"
   ],
   "outputs": [
    {
     "name": "stdout",
     "output_type": "stream",
     "text": [
      "\n",
      "🔁 Cross-Validation Results:\n",
      "\n",
      "📌 Evaluating: Naive Bayes\n",
      "  Fold 1:\n",
      "    Accuracy       : 0.958\n",
      "    Precision      : 0.902\n",
      "    Recall         : 0.981\n",
      "    F1             : 0.940\n",
      "    Error_rate     : 0.054\n",
      "  Fold 2:\n",
      "    Accuracy       : 0.956\n",
      "    Precision      : 0.898\n",
      "    Recall         : 0.981\n",
      "    F1             : 0.937\n",
      "    Error_rate     : 0.056\n",
      "  Fold 3:\n",
      "    Accuracy       : 0.954\n",
      "    Precision      : 0.898\n",
      "    Recall         : 0.973\n",
      "    F1             : 0.934\n",
      "    Error_rate     : 0.056\n",
      "  Fold 4:\n",
      "    Accuracy       : 0.953\n",
      "    Precision      : 0.891\n",
      "    Recall         : 0.978\n",
      "    F1             : 0.933\n",
      "    Error_rate     : 0.060\n",
      "  Fold 5:\n",
      "    Accuracy       : 0.955\n",
      "    Precision      : 0.895\n",
      "    Recall         : 0.979\n",
      "    F1             : 0.935\n",
      "    Error_rate     : 0.058\n",
      "\n",
      "🔹 Average (over 5 folds):\n",
      "  Accuracy       : 0.955\n",
      "  Precision      : 0.897\n",
      "  Recall         : 0.979\n",
      "  F1             : 0.936\n",
      "  Error_rate     : 0.057\n",
      "\n",
      "📌 Evaluating: Random Forest\n",
      "  Fold 1:\n",
      "    Accuracy       : 0.986\n",
      "    Precision      : 0.992\n",
      "    Recall         : 0.966\n",
      "    F1             : 0.979\n",
      "    Error_rate     : 0.004\n",
      "  Fold 2:\n",
      "    Accuracy       : 0.985\n",
      "    Precision      : 0.989\n",
      "    Recall         : 0.967\n",
      "    F1             : 0.977\n",
      "    Error_rate     : 0.006\n",
      "  Fold 3:\n",
      "    Accuracy       : 0.986\n",
      "    Precision      : 0.994\n",
      "    Recall         : 0.963\n",
      "    F1             : 0.978\n",
      "    Error_rate     : 0.003\n",
      "  Fold 4:\n",
      "    Accuracy       : 0.987\n",
      "    Precision      : 0.994\n",
      "    Recall         : 0.969\n",
      "    F1             : 0.981\n",
      "    Error_rate     : 0.003\n",
      "  Fold 5:\n",
      "    Accuracy       : 0.987\n",
      "    Precision      : 0.994\n",
      "    Recall         : 0.966\n",
      "    F1             : 0.980\n",
      "    Error_rate     : 0.003\n",
      "\n",
      "🔹 Average (over 5 folds):\n",
      "  Accuracy       : 0.986\n",
      "  Precision      : 0.993\n",
      "  Recall         : 0.966\n",
      "  F1             : 0.979\n",
      "  Error_rate     : 0.004\n",
      "\n",
      "📊 Final Test Evaluation:\n",
      "\n",
      "🔍 Model: Naive Bayes\n",
      "  Accuracy:    0.953\n",
      "  Precision:   0.892\n",
      "  Recall:      0.979\n",
      "  F1 Score:    0.934\n",
      "  Error Rate:  0.059\n",
      "\n",
      "  Classification Report:\n",
      "              precision    recall  f1-score   support\n",
      "\n",
      "        Spam       0.99      0.94      0.96     10040\n",
      "         Ham       0.89      0.98      0.93      5044\n",
      "\n",
      "    accuracy                           0.95     15084\n",
      "   macro avg       0.94      0.96      0.95     15084\n",
      "weighted avg       0.96      0.95      0.95     15084\n",
      "\n",
      "\n",
      "🔍 Model: Random Forest\n",
      "  Accuracy:    0.987\n",
      "  Precision:   0.994\n",
      "  Recall:      0.966\n",
      "  F1 Score:    0.980\n",
      "  Error Rate:  0.003\n",
      "\n",
      "  Classification Report:\n",
      "              precision    recall  f1-score   support\n",
      "\n",
      "        Spam       0.98      1.00      0.99     10040\n",
      "         Ham       0.99      0.97      0.98      5044\n",
      "\n",
      "    accuracy                           0.99     15084\n",
      "   macro avg       0.99      0.98      0.99     15084\n",
      "weighted avg       0.99      0.99      0.99     15084\n",
      "\n"
     ]
    }
   ],
   "execution_count": 29
  }
 ],
 "metadata": {
  "kernelspec": {
   "display_name": "Python 3",
   "language": "python",
   "name": "python3"
  },
  "language_info": {
   "codemirror_mode": {
    "name": "ipython",
    "version": 3
   },
   "file_extension": ".py",
   "mimetype": "text/x-python",
   "name": "python",
   "nbconvert_exporter": "python",
   "pygments_lexer": "ipython3",
   "version": "3.6.3"
  }
 },
 "nbformat": 4,
 "nbformat_minor": 2
}
